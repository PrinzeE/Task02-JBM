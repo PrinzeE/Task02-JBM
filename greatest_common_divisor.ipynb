{
 "cells": [
  {
   "cell_type": "code",
   "execution_count": 1,
   "id": "588c8c51",
   "metadata": {},
   "outputs": [],
   "source": [
    "#The greatest common divisor (GCD) of a and b is the largest number that divides both of them with no remainder.\n",
    "#One way to find the GCD of two numbers is Euclid's algorithm, which is based on the observation that\n",
    "#if r is the remainder when a is divided by b, then gcd(a, b) = gcd(b, r). As a base case, we can use gcd(a, 0) = a."
   ]
  },
  {
   "cell_type": "code",
   "execution_count": 5,
   "id": "eef51bb3",
   "metadata": {},
   "outputs": [],
   "source": [
    "def gcd(a, b):\n",
    "    if b == 0:\n",
    "        return a\n",
    "    else:\n",
    "        return gcd(b, a % b)"
   ]
  },
  {
   "cell_type": "code",
   "execution_count": 10,
   "id": "a07a7d5b",
   "metadata": {},
   "outputs": [
    {
     "name": "stdout",
     "output_type": "stream",
     "text": [
      "4\n",
      "4\n"
     ]
    }
   ],
   "source": [
    "def gcd(a, b):\n",
    "    if a < b:\n",
    "        a, b = b, a\n",
    "    if b == 0:\n",
    "        return a\n",
    "    else:\n",
    "        return gcd(b, a % b)\n",
    "    \n",
    "print(gcd(12, 8))   # Expected output: 4\n",
    "print(gcd(20, 24))  # Expected output: 4"
   ]
  },
  {
   "cell_type": "code",
   "execution_count": null,
   "id": "ba6618ff",
   "metadata": {},
   "outputs": [],
   "source": []
  }
 ],
 "metadata": {
  "kernelspec": {
   "display_name": "Python 3 (ipykernel)",
   "language": "python",
   "name": "python3"
  },
  "language_info": {
   "codemirror_mode": {
    "name": "ipython",
    "version": 3
   },
   "file_extension": ".py",
   "mimetype": "text/x-python",
   "name": "python",
   "nbconvert_exporter": "python",
   "pygments_lexer": "ipython3",
   "version": "3.9.13"
  }
 },
 "nbformat": 4,
 "nbformat_minor": 5
}
