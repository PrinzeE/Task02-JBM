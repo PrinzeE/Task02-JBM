{
 "cells": [
  {
   "cell_type": "code",
   "execution_count": 1,
   "id": "bf3c2140",
   "metadata": {},
   "outputs": [],
   "source": [
    "#Create a Python function to generate a list of all the even numbers between 4 to 30."
   ]
  },
  {
   "cell_type": "code",
   "execution_count": 3,
   "id": "ee9f3251",
   "metadata": {},
   "outputs": [
    {
     "name": "stdout",
     "output_type": "stream",
     "text": [
      "[4, 6, 8, 10, 12, 14, 16, 18, 20, 22, 24, 26, 28, 30]\n"
     ]
    }
   ],
   "source": [
    "def even_numbers():\n",
    "    result = []\n",
    "    for num in range(4, 31, 2):\n",
    "        result.append(num)\n",
    "    return result\n",
    "\n",
    "print(even_numbers())"
   ]
  },
  {
   "cell_type": "code",
   "execution_count": null,
   "id": "4170d75c",
   "metadata": {},
   "outputs": [],
   "source": []
  }
 ],
 "metadata": {
  "kernelspec": {
   "display_name": "Python 3 (ipykernel)",
   "language": "python",
   "name": "python3"
  },
  "language_info": {
   "codemirror_mode": {
    "name": "ipython",
    "version": 3
   },
   "file_extension": ".py",
   "mimetype": "text/x-python",
   "name": "python",
   "nbconvert_exporter": "python",
   "pygments_lexer": "ipython3",
   "version": "3.9.13"
  }
 },
 "nbformat": 4,
 "nbformat_minor": 5
}
