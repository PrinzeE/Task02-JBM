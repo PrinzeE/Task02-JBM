{
 "cells": [
  {
   "cell_type": "code",
   "execution_count": 4,
   "id": "79167ffa",
   "metadata": {},
   "outputs": [],
   "source": [
    "#Create a Python function to find the largest item from a given list."
   ]
  },
  {
   "cell_type": "code",
   "execution_count": 9,
   "id": "c90a5ccb",
   "metadata": {},
   "outputs": [
    {
     "name": "stdout",
     "output_type": "stream",
     "text": [
      "70\n"
     ]
    }
   ],
   "source": [
    "def find_largest(lst):\n",
    "    largest = lst[0]\n",
    "    for item in lst:\n",
    "        if item > largest:\n",
    "            largest = item\n",
    "    return largest\n",
    "\n",
    "my_list = [10, 20, 30, 70, 40, 50, 60]\n",
    "print(find_largest(my_list))"
   ]
  },
  {
   "cell_type": "code",
   "execution_count": null,
   "id": "480fd874",
   "metadata": {},
   "outputs": [],
   "source": []
  }
 ],
 "metadata": {
  "kernelspec": {
   "display_name": "Python 3 (ipykernel)",
   "language": "python",
   "name": "python3"
  },
  "language_info": {
   "codemirror_mode": {
    "name": "ipython",
    "version": 3
   },
   "file_extension": ".py",
   "mimetype": "text/x-python",
   "name": "python",
   "nbconvert_exporter": "python",
   "pygments_lexer": "ipython3",
   "version": "3.9.13"
  }
 },
 "nbformat": 4,
 "nbformat_minor": 5
}
