{
 "cells": [
  {
   "cell_type": "code",
   "execution_count": 1,
   "id": "d9712971",
   "metadata": {},
   "outputs": [],
   "source": [
    "#Write a Python class to find a pair of elements (indices of the two numbers)\n",
    "#from a given array whose sum equals a specific target number.\n",
    "#Note: There will be one solution for each input and do not use the same element twice."
   ]
  },
  {
   "cell_type": "code",
   "execution_count": 21,
   "id": "53925699",
   "metadata": {},
   "outputs": [],
   "source": [
    "class TwoSum:\n",
    "    def find_pair(self, nums, target):\n",
    "        complement_dict = {}\n",
    "        for i, num in enumerate(nums):\n",
    "            complement = target - num\n",
    "            if complement in complement_dict:\n",
    "                return [complement_dict[complement], i]\n",
    "            complement_dict[num] = i\n",
    "        return []"
   ]
  },
  {
   "cell_type": "code",
   "execution_count": 22,
   "id": "0595885c",
   "metadata": {},
   "outputs": [
    {
     "name": "stdout",
     "output_type": "stream",
     "text": [
      "[0, 3]\n"
     ]
    }
   ],
   "source": [
    "ts = TwoSum()\n",
    "nums = [4, 17, 24, 5]\n",
    "target = 9\n",
    "result = ts.find_pair(nums, target)\n",
    "print(result)"
   ]
  },
  {
   "cell_type": "code",
   "execution_count": null,
   "id": "1a3cad95",
   "metadata": {},
   "outputs": [],
   "source": []
  }
 ],
 "metadata": {
  "kernelspec": {
   "display_name": "Python 3 (ipykernel)",
   "language": "python",
   "name": "python3"
  },
  "language_info": {
   "codemirror_mode": {
    "name": "ipython",
    "version": 3
   },
   "file_extension": ".py",
   "mimetype": "text/x-python",
   "name": "python",
   "nbconvert_exporter": "python",
   "pygments_lexer": "ipython3",
   "version": "3.9.13"
  }
 },
 "nbformat": 4,
 "nbformat_minor": 5
}
