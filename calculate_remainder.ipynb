{
 "cells": [
  {
   "cell_type": "code",
   "execution_count": 2,
   "id": "d98f3dad",
   "metadata": {},
   "outputs": [],
   "source": [
    "#Write three functions that calculate the remainder of two integers by using:\n",
    "#the basic operators of +, -, * and / (why is // not required?)\n",
    "#the divmod function\n",
    "#the % operator"
   ]
  },
  {
   "cell_type": "code",
   "execution_count": 3,
   "id": "a261bdca",
   "metadata": {},
   "outputs": [],
   "source": [
    "def remainder_basic(dividend, divisor):\n",
    "    return dividend - (dividend // divisor) * divisor"
   ]
  },
  {
   "cell_type": "code",
   "execution_count": 4,
   "id": "3a8c6d16",
   "metadata": {},
   "outputs": [],
   "source": [
    "def remainder_divmod(dividend, divisor):\n",
    "    quotient, remainder = divmod(dividend, divisor)\n",
    "    return remainder"
   ]
  },
  {
   "cell_type": "code",
   "execution_count": 5,
   "id": "253a3122",
   "metadata": {},
   "outputs": [],
   "source": [
    "def remainder_modulo(dividend, divisor):\n",
    "    return dividend % divisor"
   ]
  },
  {
   "cell_type": "code",
   "execution_count": 6,
   "id": "3e1236d0",
   "metadata": {},
   "outputs": [
    {
     "name": "stdout",
     "output_type": "stream",
     "text": [
      "Using basic operators: 2\n",
      "Using divmod function: 2\n",
      "Using % operator: 2\n"
     ]
    }
   ],
   "source": [
    "dividend = 10\n",
    "divisor = 4\n",
    "\n",
    "print(\"Using basic operators:\", remainder_basic(dividend, divisor))\n",
    "print(\"Using divmod function:\", remainder_divmod(dividend, divisor))\n",
    "print(\"Using % operator:\", remainder_modulo(dividend, divisor))"
   ]
  },
  {
   "cell_type": "code",
   "execution_count": null,
   "id": "4488e3de",
   "metadata": {},
   "outputs": [],
   "source": []
  }
 ],
 "metadata": {
  "kernelspec": {
   "display_name": "Python 3 (ipykernel)",
   "language": "python",
   "name": "python3"
  },
  "language_info": {
   "codemirror_mode": {
    "name": "ipython",
    "version": 3
   },
   "file_extension": ".py",
   "mimetype": "text/x-python",
   "name": "python",
   "nbconvert_exporter": "python",
   "pygments_lexer": "ipython3",
   "version": "3.9.13"
  }
 },
 "nbformat": 4,
 "nbformat_minor": 5
}
