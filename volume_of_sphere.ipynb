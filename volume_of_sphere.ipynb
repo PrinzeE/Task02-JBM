{
 "cells": [
  {
   "cell_type": "code",
   "execution_count": 3,
   "id": "80a9ca9a",
   "metadata": {},
   "outputs": [],
   "source": [
    "#Compute the volume of a sphere with a radius of 5\n",
    "\n",
    "import math\n",
    "r=5\n",
    "def sphere_volume(r):\n",
    "    return (4/3) * math.pi * r**3\n"
   ]
  },
  {
   "cell_type": "code",
   "execution_count": 4,
   "id": "031c0d8d",
   "metadata": {},
   "outputs": [
    {
     "data": {
      "text/plain": [
       "523.5987755982989"
      ]
     },
     "execution_count": 4,
     "metadata": {},
     "output_type": "execute_result"
    }
   ],
   "source": [
    "def vol(r):\n",
    "    volume = sphere_volume(r)\n",
    "    return volume\n",
    "vol(r)\n"
   ]
  },
  {
   "cell_type": "code",
   "execution_count": null,
   "id": "fcc9604f",
   "metadata": {},
   "outputs": [],
   "source": []
  },
  {
   "cell_type": "code",
   "execution_count": null,
   "id": "59a51ed2",
   "metadata": {},
   "outputs": [],
   "source": []
  }
 ],
 "metadata": {
  "kernelspec": {
   "display_name": "Python 3 (ipykernel)",
   "language": "python",
   "name": "python3"
  },
  "language_info": {
   "codemirror_mode": {
    "name": "ipython",
    "version": 3
   },
   "file_extension": ".py",
   "mimetype": "text/x-python",
   "name": "python",
   "nbconvert_exporter": "python",
   "pygments_lexer": "ipython3",
   "version": "3.9.13"
  }
 },
 "nbformat": 4,
 "nbformat_minor": 5
}
